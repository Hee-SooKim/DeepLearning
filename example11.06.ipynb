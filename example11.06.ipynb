{
 "cells": [
  {
   "cell_type": "code",
   "execution_count": 1,
   "metadata": {
    "collapsed": true
   },
   "outputs": [],
   "source": [
    "import tensorflow as tf"
   ]
  },
  {
   "cell_type": "code",
   "execution_count": 2,
   "metadata": {
    "collapsed": false
   },
   "outputs": [],
   "source": [
    "input_data = [[1,5,3,7,8,10,12]]\n",
    "label_data = [0,0,0,1,0]"
   ]
  },
  {
   "cell_type": "code",
   "execution_count": 3,
   "metadata": {
    "collapsed": false
   },
   "outputs": [],
   "source": [
    "INPUT_DATA_SIZE = 7\n",
    "CLASS = 5\n",
    "HIDDIN1_LAYER_SIZE = 10\n",
    "HIDDIN2_LAYER_SIZE = 8\n",
    "Learning_Rate = 0.01\n",
    "x = tf.placeholder(dtype = tf.float32, shape = [None, INPUT_DATA_SIZE])\n",
    "y_ = tf.placeholder(dtype = tf.float32, shape = [ CLASS])"
   ]
  },
  {
   "cell_type": "code",
   "execution_count": 4,
   "metadata": {
    "collapsed": false
   },
   "outputs": [],
   "source": [
    "feed_dict = {x : input_data, y_ : label_data}"
   ]
  },
  {
   "cell_type": "code",
   "execution_count": 5,
   "metadata": {
    "collapsed": false
   },
   "outputs": [],
   "source": [
    "W_input = tf.Variable(tf.truncated_normal(shape = [INPUT_DATA_SIZE, HIDDIN1_LAYER_SIZE]),dtype = tf.float32)\n",
    "B_input = tf.Variable(tf.zeros(shape = [HIDDIN1_LAYER_SIZE]), dtype = tf.float32)"
   ]
  },
  {
   "cell_type": "code",
   "execution_count": 6,
   "metadata": {
    "collapsed": false
   },
   "outputs": [],
   "source": [
    "hiddin1 = tf.sigmoid(tf.matmul(x, W_input) + B_input)"
   ]
  },
  {
   "cell_type": "code",
   "execution_count": 7,
   "metadata": {
    "collapsed": true
   },
   "outputs": [],
   "source": [
    "W2_input = tf.Variable(tf.truncated_normal(shape = [HIDDIN1_LAYER_SIZE, HIDDIN2_LAYER_SIZE]),dtype = tf.float32)\n",
    "B2_input = tf.Variable(tf.zeros(shape = [HIDDIN2_LAYER_SIZE]), dtype = tf.float32)"
   ]
  },
  {
   "cell_type": "code",
   "execution_count": 8,
   "metadata": {
    "collapsed": false
   },
   "outputs": [],
   "source": [
    "hiddin2 = tf.sigmoid(tf.matmul(hiddin1, W2_input) + B2_input)"
   ]
  },
  {
   "cell_type": "code",
   "execution_count": 9,
   "metadata": {
    "collapsed": true
   },
   "outputs": [],
   "source": [
    "W_output = tf.Variable(tf.truncated_normal(shape = [HIDDIN2_LAYER_SIZE, CLASS]),dtype = tf.float32)\n",
    "B_output = tf.Variable(tf.zeros(shape = [CLASS]), dtype = tf.float32)"
   ]
  },
  {
   "cell_type": "code",
   "execution_count": 10,
   "metadata": {
    "collapsed": true
   },
   "outputs": [],
   "source": [
    "y = tf.sigmoid(tf.matmul(hiddin2 , W_output) + B_output)"
   ]
  },
  {
   "cell_type": "code",
   "execution_count": 11,
   "metadata": {
    "collapsed": false
   },
   "outputs": [],
   "source": [
    "cost = tf.reduce_mean(-y_ * tf.log(y) - (1 - y_) * tf.log(1-y))\n",
    "train = tf.train.GradientDescentOptimizer(Learning_Rate).minimize(cost)"
   ]
  },
  {
   "cell_type": "code",
   "execution_count": 12,
   "metadata": {
    "collapsed": true
   },
   "outputs": [],
   "source": [
    "sess = tf.Session()"
   ]
  },
  {
   "cell_type": "code",
   "execution_count": 13,
   "metadata": {
    "collapsed": false
   },
   "outputs": [
    {
     "name": "stdout",
     "output_type": "stream",
     "text": [
      "loss:  0.840996\n",
      "loss:  0.838841\n",
      "loss:  0.836694\n",
      "loss:  0.834555\n",
      "loss:  0.832423\n",
      "loss:  0.830298\n",
      "loss:  0.82818\n",
      "loss:  0.82607\n",
      "loss:  0.823967\n",
      "loss:  0.821871\n"
     ]
    }
   ],
   "source": [
    "init = tf.initialize_all_variables()\n",
    "sess.run(init)\n",
    "\n",
    "for i in range(10):\n",
    "    _, loss = sess.run([train, cost], feed_dict = feed_dict)\n",
    "    print (\"loss: \", loss)"
   ]
  }
 ],
 "metadata": {
  "kernelspec": {
   "display_name": "Python 3",
   "language": "python",
   "name": "python3"
  },
  "language_info": {
   "codemirror_mode": {
    "name": "ipython",
    "version": 3
   },
   "file_extension": ".py",
   "mimetype": "text/x-python",
   "name": "python",
   "nbconvert_exporter": "python",
   "pygments_lexer": "ipython3",
   "version": "3.5.2"
  }
 },
 "nbformat": 4,
 "nbformat_minor": 1
}

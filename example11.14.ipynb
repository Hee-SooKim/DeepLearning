{
 "cells": [
  {
   "cell_type": "code",
   "execution_count": 94,
   "metadata": {
    "collapsed": true
   },
   "outputs": [],
   "source": [
    "import tensorflow as tf"
   ]
  },
  {
   "cell_type": "code",
   "execution_count": 95,
   "metadata": {
    "collapsed": false
   },
   "outputs": [],
   "source": [
    "input_data = [[1,5,3,7,8,10,12], [5,8,10,3,9,7,1]]\n",
    "label_data = [[0,0,0,1,0],[1,0,0,0,0]]"
   ]
  },
  {
   "cell_type": "code",
   "execution_count": 96,
   "metadata": {
    "collapsed": false
   },
   "outputs": [],
   "source": [
    "INPUT_DATA_SIZE = 7\n",
    "CLASS = 5\n",
    "HIDDIN1_LAYER_SIZE = 10\n",
    "HIDDIN2_LAYER_SIZE = 8\n",
    "Learning_Rate = 0.01\n",
    "x = tf.placeholder(dtype = tf.float32, shape = [None, INPUT_DATA_SIZE])\n",
    "y_ = tf.placeholder(dtype = tf.float32, shape = [None, CLASS])"
   ]
  },
  {
   "cell_type": "code",
   "execution_count": 97,
   "metadata": {
    "collapsed": false
   },
   "outputs": [],
   "source": [
    "feed_dict = {x : input_data, y_ : label_data}"
   ]
  },
  {
   "cell_type": "code",
   "execution_count": 98,
   "metadata": {
    "collapsed": false
   },
   "outputs": [],
   "source": [
    "W1_input = tf.Variable(tf.truncated_normal(shape = [INPUT_DATA_SIZE, HIDDIN1_LAYER_SIZE]),dtype = tf.float32)\n",
    "B1_input = tf.Variable(tf.zeros(shape = [HIDDIN1_LAYER_SIZE]), dtype = tf.float32)"
   ]
  },
  {
   "cell_type": "code",
   "execution_count": 99,
   "metadata": {
    "collapsed": false
   },
   "outputs": [],
   "source": [
    "hiddin1 = tf.sigmoid(tf.matmul(x, W_input) + B_input)"
   ]
  },
  {
   "cell_type": "code",
   "execution_count": 100,
   "metadata": {
    "collapsed": true
   },
   "outputs": [],
   "source": [
    "W2_input = tf.Variable(tf.truncated_normal(shape = [HIDDIN1_LAYER_SIZE, HIDDIN2_LAYER_SIZE]),dtype = tf.float32)\n",
    "B2_input = tf.Variable(tf.zeros(shape = [HIDDIN2_LAYER_SIZE]), dtype = tf.float32)"
   ]
  },
  {
   "cell_type": "code",
   "execution_count": 101,
   "metadata": {
    "collapsed": false
   },
   "outputs": [],
   "source": [
    "hiddin2 = tf.sigmoid(tf.matmul(hiddin1, W2_input) + B2_input)"
   ]
  },
  {
   "cell_type": "code",
   "execution_count": 102,
   "metadata": {
    "collapsed": false
   },
   "outputs": [],
   "source": [
    "W_output = tf.Variable(tf.truncated_normal(shape = [HIDDIN2_LAYER_SIZE, CLASS]),dtype = tf.float32)\n",
    "B_output = tf.Variable(tf.zeros(shape = [CLASS]), dtype = tf.float32)"
   ]
  },
  {
   "cell_type": "code",
   "execution_count": 103,
   "metadata": {
    "collapsed": false
   },
   "outputs": [],
   "source": [
    "val_list = [W1_input, B1_input, W2_input, B2_input, W_output, B_output]\n",
    "saver = tf.train.Saver(val_list)"
   ]
  },
  {
   "cell_type": "code",
   "execution_count": 104,
   "metadata": {
    "collapsed": true
   },
   "outputs": [],
   "source": [
    "y = tf.sigmoid(tf.matmul(hiddin2 , W_output) + B_output)"
   ]
  },
  {
   "cell_type": "code",
   "execution_count": 105,
   "metadata": {
    "collapsed": false
   },
   "outputs": [],
   "source": [
    "cost = tf.reduce_sum(-y_ * tf.log(y) - (1 - y_) * tf.log(1-y))\n",
    "cost = tf.reduce_mean(cost)\n",
    "train = tf.train.GradientDescentOptimizer(Learning_Rate).minimize(cost)\n",
    "\n",
    "\n",
    "com_pred = tf.equal(tf.argmax(y,1), tf.argmax(y_,1))\n",
    "accuracy = tf.reduce_mean(tf.cast(com_pred, tf.float32))"
   ]
  },
  {
   "cell_type": "code",
   "execution_count": 106,
   "metadata": {
    "collapsed": true
   },
   "outputs": [],
   "source": [
    "sess = tf.Session()"
   ]
  },
  {
   "cell_type": "code",
   "execution_count": 107,
   "metadata": {
    "collapsed": false
   },
   "outputs": [
    {
     "name": "stdout",
     "output_type": "stream",
     "text": [
      "loss:  7.69502\n",
      "acc :  0.0\n",
      "loss:  1.90827\n",
      "acc :  1.0\n",
      "loss:  1.17225\n",
      "acc :  1.0\n",
      "loss:  0.79096\n",
      "acc :  1.0\n",
      "loss:  0.568955\n",
      "acc :  1.0\n"
     ]
    }
   ],
   "source": [
    "init = tf.initialize_all_variables()\n",
    "sess.run(init)\n",
    "\n",
    "for i in range(1000):\n",
    "    _, loss, acc = sess.run([train, cost, accuracy], feed_dict = feed_dict)\n",
    "    if(i%200 == 0):\n",
    "        saver.save(sess, './train_result.ckpt')\n",
    "        print (\"loss: \", loss)\n",
    "        print (\"acc : \", acc)"
   ]
  }
 ],
 "metadata": {
  "kernelspec": {
   "display_name": "Python 3",
   "language": "python",
   "name": "python3"
  },
  "language_info": {
   "codemirror_mode": {
    "name": "ipython",
    "version": 3
   },
   "file_extension": ".py",
   "mimetype": "text/x-python",
   "name": "python",
   "nbconvert_exporter": "python",
   "pygments_lexer": "ipython3",
   "version": "3.5.2"
  }
 },
 "nbformat": 4,
 "nbformat_minor": 1
}
